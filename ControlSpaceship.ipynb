{
 "cells": [
  {
   "cell_type": "markdown",
   "metadata": {
    "id": "_E-zayKosnVd",
    "jp-MarkdownHeadingCollapsed": true,
    "tags": []
   },
   "source": [
    "## Requirement modules"
   ]
  },
  {
   "cell_type": "code",
   "execution_count": null,
   "metadata": {
    "colab": {
     "base_uri": "https://localhost:8080/"
    },
    "executionInfo": {
     "elapsed": 23792,
     "status": "ok",
     "timestamp": 1625380991109,
     "user": {
      "displayName": "Hamidreza Yaghoobi",
      "photoUrl": "https://lh3.googleusercontent.com/a-/AOh14GiejW8UrVNLH4PeeTPpj8GLGothy1HqGHkjYwwx=s64",
      "userId": "09717097422086311639"
     },
     "user_tz": -270
    },
    "id": "1q9-MTlhe2qP",
    "outputId": "bac38087-e708-476a-dcf1-cd3810820c72"
   },
   "outputs": [],
   "source": [
    "!pip install gym pyvirtualdisplay > /dev/null 2>&1\n",
    "!apt-get install -y xvfb python-opengl ffmpeg > /dev/null 2>&1\n",
    "!pip install box2d-py\n",
    "!pip3 install box2d box2d-kengz\n",
    "!pip install pybox2d"
   ]
  },
  {
   "cell_type": "code",
   "execution_count": null,
   "metadata": {
    "colab": {
     "base_uri": "https://localhost:8080/"
    },
    "executionInfo": {
     "elapsed": 17749,
     "status": "ok",
     "timestamp": 1625381013687,
     "user": {
      "displayName": "Hamidreza Yaghoobi",
      "photoUrl": "https://lh3.googleusercontent.com/a-/AOh14GiejW8UrVNLH4PeeTPpj8GLGothy1HqGHkjYwwx=s64",
      "userId": "09717097422086311639"
     },
     "user_tz": -270
    },
    "id": "VaA1RodaY_HA",
    "outputId": "bed2f257-71aa-4656-a7da-46702177ac84"
   },
   "outputs": [
    {
     "name": "stdout",
     "output_type": "stream",
     "text": [
      "Requirement already up-to-date: setuptools in /usr/local/lib/python3.7/dist-packages (57.0.0)\n"
     ]
    }
   ],
   "source": [
    "!apt-get update > /dev/null 2>&1\n",
    "!apt-get install cmake > /dev/null 2>&1\n",
    "!pip install --upgrade setuptools 2>&1\n",
    "!pip install ez_setup > /dev/null 2>&1\n",
    "!pip install gym[atari] > /dev/null 2>&1"
   ]
  },
  {
   "cell_type": "markdown",
   "metadata": {
    "id": "OCy1xQ4gSpgk",
    "jp-MarkdownHeadingCollapsed": true,
    "tags": []
   },
   "source": [
    "## Display Making for recording videos"
   ]
  },
  {
   "cell_type": "code",
   "execution_count": null,
   "metadata": {
    "id": "oWEFBeT1S27d"
   },
   "outputs": [],
   "source": [
    "# Display Making\n",
    "!rm -rf video\n",
    "display = Display(visible=0, size=(1400, 900))\n",
    "display.start()\n",
    "\n",
    "\"\"\"\n",
    "Utility functions to enable video recording of gym environment \n",
    "and displaying it.\n",
    "To enable video, just do \"env = wrap_env(env)\"\"\n",
    "\"\"\"\n",
    "\n",
    "def show_video():\n",
    "  mp4list = glob.glob('video/*.mp4')\n",
    "  if len(mp4list) > 0:\n",
    "    mp4 = mp4list[0]\n",
    "    video = io.open(mp4, 'r+b').read()\n",
    "    encoded = base64.b64encode(video)\n",
    "    ipythondisplay.display(HTML(data='''<video alt=\"test\" autoplay \n",
    "                loop controls style=\"height: 400px;\">\n",
    "                <source src=\"data:video/mp4;base64,{0}\" type=\"video/mp4\" />\n",
    "             </video>'''.format(encoded.decode('ascii'))))\n",
    "  else: \n",
    "    print(\"Could not find video\")\n",
    "    \n",
    "\n",
    "def wrap_env(env):\n",
    "  env = Monitor(env, './video', force=True)\n",
    "  return env"
   ]
  },
  {
   "cell_type": "markdown",
   "metadata": {
    "id": "tSHU8QGGMLAB",
    "jp-MarkdownHeadingCollapsed": true,
    "tags": []
   },
   "source": [
    "## Environment Initializing "
   ]
  },
  {
   "cell_type": "code",
   "execution_count": null,
   "metadata": {
    "colab": {
     "base_uri": "https://localhost:8080/"
    },
    "executionInfo": {
     "elapsed": 1052,
     "status": "ok",
     "timestamp": 1625381014688,
     "user": {
      "displayName": "Hamidreza Yaghoobi",
      "photoUrl": "https://lh3.googleusercontent.com/a-/AOh14GiejW8UrVNLH4PeeTPpj8GLGothy1HqGHkjYwwx=s64",
      "userId": "09717097422086311639"
     },
     "user_tz": -270
    },
    "id": "kusX8tOKZYkc",
    "outputId": "5c7e5672-945a-490f-bef1-9a37b82e2125"
   },
   "outputs": [
    {
     "name": "stdout",
     "output_type": "stream",
     "text": [
      "observation space: Box(-inf, inf, (8,), float32)\n",
      "action space: Discrete(4)\n",
      "initial observation: [ 0.00358639  1.4003816   0.3632449  -0.4683797  -0.00414893 -0.08228043\n",
      "  0.          0.        ]\n",
      "next observation: [ 0.00726328  1.3892561   0.3741002  -0.49449843 -0.01049109 -0.1268553\n",
      "  0.          0.        ]\n",
      "reward: -2.286735362561443\n",
      "done: False\n",
      "info: {}\n"
     ]
    }
   ],
   "source": [
    "import gym\n",
    "from gym.wrappers import Monitor\n",
    "import glob\n",
    "import io\n",
    "import base64\n",
    "import numpy as np\n",
    "from IPython.display import HTML\n",
    "from pyvirtualdisplay import Display\n",
    "from IPython import display as ipythondisplay\n",
    "\n",
    "env = gym.make(\"LunarLander-v2\")\n",
    "print('observation space:', env.observation_space)\n",
    "print('action space:', env.action_space)\n",
    "\n",
    "obs = env.reset()\n",
    "#env.render()\n",
    "print('initial observation:', obs)\n",
    "\n",
    "action = env.action_space.sample()\n",
    "n_obs, r, done, info = env.step(action)\n",
    "print('next observation:', n_obs)\n",
    "print('reward:', r)\n",
    "print('done:', done)\n",
    "print('info:', info)\n",
    "\n",
    "\n"
   ]
  },
  {
   "cell_type": "markdown",
   "metadata": {
    "id": "hFYHPJTcHXIJ",
    "jp-MarkdownHeadingCollapsed": true,
    "tags": []
   },
   "source": [
    "## Gradient Descent Implimentation for DQN"
   ]
  },
  {
   "cell_type": "code",
   "execution_count": null,
   "metadata": {
    "id": "twbF_KlfaAWz"
   },
   "outputs": [],
   "source": [
    "import random\n",
    "import pandas as pd\n",
    "import tensorflow as tf\n",
    "from tensorflow import keras\n",
    "from collections import deque \n",
    "from keras.layers import Dense\n",
    "import matplotlib.pyplot as plt\n",
    "from keras.optimizers import Adam\n",
    "from keras.models import Sequential\n",
    "\n",
    "\n",
    "class Agent():\n",
    "    def __init__(self, nS, nA, alpha, gamma, epsilon, epsilon_min, \n",
    "                 epsilon_decay):\n",
    "        self.nS = nS    #Number of States\n",
    "        self.nA = nA    #Number of Actions\n",
    "        self.memory = deque([], maxlen=250000)\n",
    "        self.alpha = alpha    #Learning Rate\n",
    "        self.gamma = gamma    #Discount Rate in Bellman approximation\n",
    "        #Explore/Exploit\n",
    "        self.epsilon = epsilon\n",
    "        self.epsilon_min = epsilon_min\n",
    "        self.epsilon_decay = epsilon_decay\n",
    "        self.model = self.build_model()\n",
    "        self.loss = []\n",
    "        random.seed(8)\n",
    "        \n",
    "    def build_model(self):\n",
    "        model = keras.Sequential()\n",
    "        #[Input] -> Layer 1\n",
    "        model.add(keras.layers.Dense(256, input_dim=self.nS, activation='relu'))\n",
    "        #[Hidden] -> Layer 2\n",
    "        model.add(keras.layers.Dense(128, activation='relu')) \n",
    "        #[Hidden] -> Layer 3\n",
    "        model.add(keras.layers.Dense(32, activation='relu')) \n",
    "        #[output] -> Layer 4\n",
    "        model.add(keras.layers.Dense(self.nA, activation='linear')) \n",
    "        model.compile(loss='mean_squared_error',\n",
    "                      optimizer=keras.optimizers.Adam(lr=self.alpha))\n",
    "        return model\n",
    "\n",
    "\n",
    "    def action(self, state):\n",
    "        if np.random.rand() <= self.epsilon:\n",
    "          #Explore\n",
    "          return random.randrange(self.nA)\n",
    "        else:\n",
    "          #Exploit: Use the NN to predict the correct action from this state\n",
    "          action_vals = self.model.predict_on_batch(state) \n",
    "          return np.argmax(action_vals[0])\n",
    "\n",
    "    def test_action(self, state): #Exploit\n",
    "        action_vals = self.model.predict_on_batch(state)\n",
    "        return np.argmax(action_vals[0]),action_vals[0]\n",
    "\n",
    "    def store(self, state, action, reward, nstate, done):\n",
    "        #Store the experience in memory\n",
    "        self.memory.append( (state, action, reward, nstate, done) )\n",
    "\n",
    "    def update_NN(self, batch_size):\n",
    "        states, actions, rewards, next_states, done_list = self.random_sample(batch_size)\n",
    "        targets = rewards + self.gamma * (np.amax(self.model.predict_on_batch(next_states),\n",
    "                                                  axis=1)) * (1 - done_list)\n",
    "        target_vec = self.model.predict_on_batch(states)\n",
    "        indexes = np.array([i for i in range(batch_size)])\n",
    "        target_vec[[indexes], [actions]] = targets\n",
    "\n",
    "        epoch_count = 1 #Epochs is the number or iterations\n",
    "        hist = self.model.fit(states, target_vec, epochs=epoch_count, verbose=0)\n",
    "\n",
    "        for i in range(epoch_count):\n",
    "            self.loss.append( hist.history['loss'][i] )\n",
    "        #Decay Epsilon\n",
    "        if self.epsilon > self.epsilon_min:\n",
    "            self.epsilon *= self.epsilon_decay\n",
    "            #self.epsilon = e/EPISODES\n",
    "    \n",
    "    def random_sample(self, batch_size):\n",
    "        #Execute the experience replay\n",
    "        #Randomly sample from memory\n",
    "        minibatch = random.sample( self.memory, batch_size)\n",
    "        states = np.array([i[0] for i in minibatch])\n",
    "        actions = np.array([i[1] for i in minibatch])\n",
    "        rewards = np.array([i[2] for i in minibatch])\n",
    "        next_states = np.array([i[3] for i in minibatch])\n",
    "        done_list = np.array([i[4] for i in minibatch])\n",
    "        states = np.squeeze(states)\n",
    "        next_states = np.squeeze(next_states)\n",
    "        return states, actions, rewards, next_states, done_list\n",
    "        \n",
    "    def save(self, name):\n",
    "        self.model.save(name)\n",
    "\n",
    "def Convergence_coundition(episode, step, reward_for_episode, \n",
    "                           rewards_list, can_stop, epsilon):\n",
    "  # Check for convergence condition\n",
    "  last_rewards_mean = np.mean(rewards_list[-100:]) #-100 instead of -10\n",
    "  if last_rewards_mean >= 150 and can_stop:\n",
    "    print(\"DQN Training Complete...\")\n",
    "    # Save Everything\n",
    "    save_dir = \"saved_models\"\n",
    "    # Save trained model\n",
    "    agent.save(save_dir + \"trained_model.h5\")\n",
    "    return True\n",
    "  else:  \n",
    "    print(\"Episode:\", episode, \"  || Step: \", step,  \"  || Reward: \",\n",
    "          reward_for_episode, \"  || Average Reward: \",last_rewards_mean,\n",
    "          \"  || epsilon: \", epsilon )\n",
    "  \n",
    "def plot_reward(df_reward, chart_name, title, x_axis_label, y_axis_label):\n",
    "    plt.rcParams.update({'font.size': 17})\n",
    "    df_reward['rolling mean 100'] = df_reward[df_reward.columns[0]].rolling(100).mean()\n",
    "    plt.figure(figsize=(15, 8))\n",
    "    plt.close()\n",
    "    plt.figure()\n",
    "    # plot = df.plot(linewidth=1.5, figsize=(15, 8), title=title)\n",
    "    plot = df_reward.plot(linewidth=1.5, figsize=(15, 8))\n",
    "    plot.set_xlabel(x_axis_label)\n",
    "    plot.set_ylabel(y_axis_label)\n",
    "    plt.ylim((-800, 300))\n",
    "    fig = plot.get_figure()\n",
    "    plt.legend().set_visible(True)\n",
    "    fname=\"/content/drive/MyDrive/IUST (Master)/AI/Control Spaceship_RL/Batch=1024_NN-256-128-32_lr=0.001_dr=0.99_ed=0.996/\"\n",
    "    fig.savefig(fname + chart_name)\n",
    "\n",
    "def plot_df(df, chart_name, title, x_axis_label, y_axis_label):\n",
    "    df['rolling mean 100'] = df[df.columns[0]].rolling(100).mean()\n",
    "    plt.rcParams.update({'font.size': 17})\n",
    "    plt.figure(figsize=(15, 8))\n",
    "    plt.close()\n",
    "    plt.figure()\n",
    "    # plot = df.plot(linewidth=1.5, figsize=(15, 8), title=title)\n",
    "    plot = df.plot(linewidth=1.5, figsize=(15, 8))\n",
    "    plot.set_xlabel(x_axis_label)\n",
    "    plot.set_ylabel(y_axis_label)\n",
    "    plt.ylim((0, 200))\n",
    "    plt.xlim((0, 2000))\n",
    "    plt.legend().set_visible(True)\n",
    "    fig = plot.get_figure()\n",
    "    fname=\"/content/drive/MyDrive/IUST (Master)/AI/Control Spaceship_RL/Batch=1024_NN-256-128-32_lr=0.001_dr=0.99_ed=0.996/\"\n",
    "    fig.savefig(fname + chart_name)\n",
    "  \n",
    "def plot_comp(df_reward, chart_name, title, x_axis_label, y_axis_label):\n",
    "    plt.rcParams.update({'font.size': 17})\n",
    "    plt.figure(figsize=(15, 8))\n",
    "    plt.close()\n",
    "    plt.figure()\n",
    "    # plot = df.plot(linewidth=1.5, figsize=(15, 8), title=title)\n",
    "    plot = df_reward.plot(linewidth=1.5, figsize=(15, 8))\n",
    "    plot.set_xlabel(x_axis_label)\n",
    "    plot.set_ylabel(y_axis_label)\n",
    "    plt.ylim((-800, 300))\n",
    "    fig = plot.get_figure()\n",
    "    plt.legend().set_visible(True)\n",
    "    fname=\"/content/drive/MyDrive/IUST (Master)/AI/Control Spaceship_RL/Batch=1024_NN-256-128-32_lr=0.001_dr=0.99_ed=0.996/\"\n",
    "    fig.savefig(fname + chart_name)"
   ]
  },
  {
   "cell_type": "markdown",
   "metadata": {
    "jp-MarkdownHeadingCollapsed": true,
    "tags": []
   },
   "source": [
    "## GA Implimentation"
   ]
  },
  {
   "cell_type": "code",
   "execution_count": null,
   "metadata": {
    "id": "PW7tg_lsHOGb"
   },
   "outputs": [],
   "source": [
    "import random\n",
    "import math\n",
    "import pandas as pd\n",
    "import tensorflow as tf\n",
    "from tensorflow import keras\n",
    "from collections import deque \n",
    "from keras.layers import Dense\n",
    "import matplotlib.pyplot as plt\n",
    "from keras.optimizers import Adam\n",
    "from keras.models import Sequential\n",
    "\n",
    "\n",
    "class Agent_GA():\n",
    "    def __init__(self, nS, nA, nP, initial_pop, best_pop, gamma, epsilon,\n",
    "                 epsilon_min, epsilon_decay):\n",
    "        self.nS = nS    #Number of States\n",
    "        self.nA = nA    #Number of Actions\n",
    "        self.nP = nP    #Number of Population\n",
    "        self.nvar = 39040\n",
    "        self.memory = deque([], maxlen=250000)\n",
    "        self.gamma = gamma    #Discount Rate in Bellman approximation\n",
    "        #Explore/Exploit\n",
    "        self.epsilon = epsilon\n",
    "        self.epsilon_min = epsilon_min\n",
    "        self.epsilon_decay = epsilon_decay\n",
    "        #self.model = self.feedforward()\n",
    "        self.pop_weights = initial_pop\n",
    "        self.best_weights = best_pop\n",
    "        self.loss = []\n",
    "        #self.activ_function()\n",
    "        random.seed(8)\n",
    "        \n",
    "    #def active_function(self, )\n",
    "    def feedforward(self, states):\n",
    "        \n",
    "        def active_fun(input):\n",
    "            # THIS IS RELU FUNCTION\n",
    "            o = np.zeros((len(input), 1))\n",
    "            for i in range(len(input)):\n",
    "              if input[i, 0]<=0:\n",
    "                o[i, 0]=0\n",
    "              else:\n",
    "                o[i, 0]=input[i, 0]\n",
    "            return o\n",
    "\n",
    "        n_data = states.shape[0]  #data must be array or matrix\n",
    "        n0 = self.nS\n",
    "        n1 = 256\n",
    "        n2 = 128\n",
    "        n3 = 32\n",
    "        n4 = self.nA\n",
    "\n",
    "        data = np.asmatrix(states)\n",
    "\n",
    "        w = self.best_weights #weight is (1, 39040)\n",
    "\n",
    "        w1 = np.reshape(w[0, 0:n1*n0], (n1, n0))\n",
    "        w1 = np.asmatrix(w1)\n",
    "        net1 = np.zeros((n1, 1))\n",
    "        net1 = np.asmatrix(net1)\n",
    "        o1 = np.zeros((n1, 1))\n",
    "        o1 = np.asmatrix(o1)\n",
    "\n",
    "        w2 = np.reshape(w[0, n1*n0:(n1*n0+n2*n1)], (n2, n1))\n",
    "        w2 = np.asmatrix(w2)\n",
    "        net2 = np.zeros((n2, 1))\n",
    "        net2 = np.asmatrix(net2)\n",
    "        o2 = np.zeros((n2, 1))\n",
    "        o2 = np.asmatrix(o2)\n",
    "\n",
    "        w3 = np.reshape(w[0, (n1*n0+n2*n1):(n1*n0+n2*n1+n3*n2)], (n3, n2))\n",
    "        w3 = np.asmatrix(w3)\n",
    "        net3 = np.zeros((n3, 1))\n",
    "        net3 = np.asmatrix(net3)\n",
    "        o3 = np.zeros((n3, 1))\n",
    "        o3 = np.asmatrix(o3)\n",
    "\n",
    "        w4 = np.reshape(w[0, (n1*n0+n2*n1+n3*n2):(n1*n0+n2*n1+n3*n2+n4*n3)],\n",
    "                        (n4, n3))\n",
    "        w4 = np.asmatrix(w4)\n",
    "        net4 = np.zeros((n4, 1))\n",
    "        net4 = np.asmatrix(net4)\n",
    "        o4 = np.zeros((n4, 1))\n",
    "        o4 = np.asmatrix(o4)\n",
    "        output = np.zeros((n_data, n4))\n",
    "        #output = np.asmatrix(output)\n",
    "\n",
    "        for j in range(n_data):\n",
    "          Input = data[j, :]\n",
    "          \n",
    "          net1 = w1 * (Input.transpose())\n",
    "          o1 = active_fun(net1)\n",
    "          net2 = w2 * o1\n",
    "          o2 = active_fun(net2)\n",
    "          net3 = w3 * o2\n",
    "          o3 = active_fun(net3)\n",
    "          net4 = w4 * o3\n",
    "          o4 = net4\n",
    "          out = np.asarray(o4).reshape(4,)\n",
    "          output[j, :] = out\n",
    "        \n",
    "        return output  #is 2D array (1, number of action)\n",
    "      \n",
    "\n",
    "    def fitness(self, data_in, target):\n",
    "        def active_fun(input):\n",
    "            # THIS IS RELU FUNCTION\n",
    "            o = np.zeros((len(input), 1))\n",
    "            for i in range(len(input)):\n",
    "              if input[i, 0]<=0:\n",
    "                o[i, 0]=0\n",
    "              else:\n",
    "                o[i, 0]=input[i, 0]\n",
    "            return o\n",
    "\n",
    "        n_data = data_in.shape[0]  #data must be array or matrix\n",
    "        w = self.pop_weights #weights is (pop, 39040)\n",
    "\n",
    "        n0 = self.nS\n",
    "        n1 = 256\n",
    "        n2 = 128\n",
    "        n3 = 32\n",
    "        n4 = self.nA\n",
    "        p = w.shape[0]\n",
    "\n",
    "        data_in = np.asmatrix(data_in)\n",
    "        target = np.asmatrix(target)\n",
    "\n",
    "        #w = self.pop_weights #weights is (pop, 39040)\n",
    "\n",
    "        w1 = np.reshape(w[:, 0:n1*n0], (p, n1, n0))\n",
    "        #w1 = np.asmatrix(w1)\n",
    "        net1 = np.zeros((n1, 1))\n",
    "        net1 = np.asmatrix(net1)\n",
    "        o1 = np.zeros((n1, 1))\n",
    "        o1 = np.asmatrix(o1)\n",
    "\n",
    "        w2 = np.reshape(w[:, n1*n0:(n1*n0+n2*n1)], (p, n2, n1))\n",
    "        #w2 = np.asmatrix(w2)\n",
    "        net2 = np.zeros((n2, 1))\n",
    "        net2 = np.asmatrix(net2)\n",
    "        o2 = np.zeros((n2, 1))\n",
    "        o2 = np.asmatrix(o2)\n",
    "\n",
    "        w3 = np.reshape(w[:, (n1*n0+n2*n1):(n1*n0+n2*n1+n3*n2)], (p, n3, n2))\n",
    "        #w3 = np.asmatrix(w3)\n",
    "        net3 = np.zeros((n3, 1))\n",
    "        net3 = np.asmatrix(net3)\n",
    "        o3 = np.zeros((n3, 1))\n",
    "        o3 = np.asmatrix(o3)\n",
    "\n",
    "        w4 = np.reshape(w[:, (n1*n0+n2*n1+n3*n2):(n1*n0+n2*n1+n3*n2+n4*n3)], \n",
    "                        (p, n4, n3))\n",
    "        #w4 = np.asmatrix(w4)\n",
    "        net4 = np.zeros((n4, 1))\n",
    "        net4 = np.asmatrix(net4)\n",
    "        o4 = np.zeros((n4, 1))\n",
    "        o4 = np.asmatrix(o4)\n",
    "        \n",
    "        e = np.zeros((p, n_data))\n",
    "        \n",
    "        \n",
    "\n",
    "        for i in range(p):\n",
    "          for j in range(n_data):\n",
    "            Input = data_in[j, :]\n",
    "            \n",
    "            w12 = np.asmatrix(w1[i, :, :])\n",
    "            net1 = w12 * (Input.transpose())\n",
    "            o1 = active_fun(net1)\n",
    "\n",
    "            w23 = np.asmatrix(w2[i, :, :])\n",
    "            net2 = w23 * o1\n",
    "            o2 = active_fun(net2)\n",
    "\n",
    "            w34 = np.asmatrix(w3[i, :, :])\n",
    "            net3 = w34 * o2\n",
    "            o3 = active_fun(net3)\n",
    "\n",
    "            w45 = np.asmatrix(w4[i, :, :])\n",
    "            net4 = w45 * o3\n",
    "            o4 = net4\n",
    "            e[i, j] = np.abs(target[j, :] - o4.transpose()).mean()\n",
    "        \n",
    "        fit = e.mean(axis=1)  #1D array\n",
    "        return fit\n",
    "        \n",
    "    def GA(self, data_in, target, epochs):\n",
    "        \n",
    "        #DEFINE CROSSOVER FUNCTION\n",
    "        def crossover(fit, ncross, pop):\n",
    "\n",
    "            def UniformCrossOver(x1, x2):\n",
    "                R1 = np.random.uniform(0, 1, size=x1.shape)\n",
    "                R2 = 1-R1\n",
    "                y1=np.multiply(R1, x1)+np.multiply(R2, x2)\n",
    "                y2=np.multiply(R2, x1)+np.multiply(R1, x2)\n",
    "                return y1, y2\n",
    "\n",
    "            p = fit/(fit.sum())\n",
    "            p_cum = p.cumsum()\n",
    "            crosspop = np.zeros((ncross, self.nvar))\n",
    "            for n in range(ncross):\n",
    "              if (n%2==0):\n",
    "                i1 = [index for index, value in enumerate(p_cum) if value<random.random()]\n",
    "                i2 = [index for index, value in enumerate(p_cum) if value<random.random()]\n",
    "                if len(i1)==0 or len(i2)==0:\n",
    "                  i1 = random.randint(0, len(p_cum)-1)\n",
    "                  i2 = random.randint(0, len(p_cum)-1)\n",
    "                else:\n",
    "                  i1 = i1[-1]\n",
    "                  i2 = i2[0]\n",
    "                (crosspop[n, :], crosspop[n+1, :])=UniformCrossOver(pop[i1, :],\n",
    "                                                                    pop[i2, :])\n",
    "            return crosspop\n",
    "\n",
    "        # DEFINE MUTATION FUNCTION\n",
    "        def mutation(nmut, pop):\n",
    "\n",
    "            def UniformMutation(x, R):\n",
    "                n = self.nvar\n",
    "                I = np.random.randint(0, n-1, size=(math.floor(R*n),))\n",
    "                d = np.random.uniform(-0.1, 0.1, size=(n,))\n",
    "                x[I] = x[I]+d[I]\n",
    "                y=x\n",
    "                return y\n",
    "\n",
    "            R = 0.01\n",
    "            mutpop = np.zeros((nmut, self.nvar))\n",
    "            for n in range(nmut):\n",
    "                i1=random.randint(0, self.nP-1)\n",
    "                mutpop[n, :] = UniformMutation(pop[i1, :], R) \n",
    "            return mutpop\n",
    "\n",
    "        \n",
    "        npop=self.nP     #number of population\n",
    "        pop = self.pop_weights\n",
    "        pc=0.7           #percent of crossover\n",
    "        ncross=2*round(npop*pc/2)  #number of crossover offspring\n",
    "\n",
    "        pm=0.3                      #percent of mutation\n",
    "        nmut=round(npop*pm)         #number of mutation offspring\n",
    "        \n",
    "        for k in range(epochs):\n",
    "          fit = self.fitness(data_in, target)\n",
    "          #crossover\n",
    "          crosspop = crossover(fit, ncross, pop)\n",
    "          \n",
    "          #mutation\n",
    "          mutpop = mutation(nmut, pop)\n",
    "\n",
    "          #merged\n",
    "          pop_new = np.concatenate((pop, crosspop, mutpop), axis=0)\n",
    "          self.pop_weights = pop_new[npop:, :]\n",
    "          \n",
    "          #Sorting\n",
    "          fit_new = np.concatenate((fit, self.fitness(data_in, target)), axis=0)\n",
    "          pop_with_fit = np.concatenate((pop_new, fit_new.reshape(-1, 1)),\n",
    "                                        axis=1)\n",
    "          pop_with_fit[:, -1].sort()\n",
    "          #pop_with_fit = pop_with_fit[::-1]\n",
    "          \n",
    "\n",
    "          \n",
    "\n",
    "          #selecting\n",
    "          self.pop_weights = pop_with_fit[:npop, :-1]\n",
    "          self.best_weights = pop_with_fit[0, :-1].reshape(1, -1)\n",
    "          self.loss.append(pop_with_fit[0, -1])\n",
    "\n",
    "    def action(self, state):\n",
    "        if np.random.rand() <= self.epsilon:\n",
    "          #Explore\n",
    "          return random.randrange(self.nA)\n",
    "        else:\n",
    "          #Exploit: Use the NN to predict the correct action from this state\n",
    "          action_vals = self.feedforward(state) \n",
    "          return np.argmax(action_vals)\n",
    "\n",
    "    def test_action(self, state): #Exploit\n",
    "        action_vals = self.feedforward(state)\n",
    "        return np.argmax(action_vals)\n",
    "\n",
    "    def store(self, state, action, reward, nstate, done):\n",
    "        #Store the experience in memory\n",
    "        self.memory.append( (state, action, reward, nstate, done) )\n",
    "\n",
    "    def random_sample(self, batch_size):\n",
    "        #Execute the experience replay\n",
    "        #Randomly sample from memory\n",
    "        minibatch = random.sample( self.memory, batch_size)\n",
    "        states = np.array([i[0] for i in minibatch])\n",
    "        actions = np.array([i[1] for i in minibatch])\n",
    "        rewards = np.array([i[2] for i in minibatch])\n",
    "        next_states = np.array([i[3] for i in minibatch])\n",
    "        done_list = np.array([i[4] for i in minibatch])\n",
    "        states = np.squeeze(states)\n",
    "        next_states = np.squeeze(next_states)\n",
    "        return states, actions, rewards, next_states, done_list\n",
    "\n",
    "    def update_NN(self, batch_size):\n",
    "        states, actions, rewards, next_states, done_list = self.random_sample(batch_size)\n",
    "        targets = rewards + self.gamma * (np.amax(self.feedforward(next_states),\n",
    "                                                  axis=1)) * (1 - done_list)\n",
    "        target_vec = self.feedforward(states)\n",
    "        indexes = np.array([i for i in range(batch_size)])\n",
    "        target_vec[[indexes], [actions]] = targets\n",
    "\n",
    "        epoch_count = 1 #Epochs is the number or iterations\n",
    "        self.GA(states, target_vec, epochs=epoch_count)   #GA algorithem\n",
    "\n",
    "        #Decay Epsilon\n",
    "        if self.epsilon > self.epsilon_min:\n",
    "            self.epsilon *= self.epsilon_decay\n",
    "            #self.epsilon = e/EPISODES\n",
    "    \n",
    "    \n",
    "        \n",
    "    def save(self, name):\n",
    "        b_weights = self.best_weights\n",
    "        columns_name1 = ['BEST WEIGHTS']\n",
    "        b_weights_df = pd.DataFrame(b_weights.reshape(-1, 1),\n",
    "                                    columns=columns_name1)\n",
    "        b_weights_df.to_csv(save_dir + 'Model_weights.csv')\n",
    "\n",
    "def Convergence_coundition(episode, step, reward_for_episode, \n",
    "                           rewards_list, can_stop, epsilon):\n",
    "  # Check for convergence condition\n",
    "  last_rewards_mean = np.mean(rewards_list[-100:]) #-100 instead of -10\n",
    "  if last_rewards_mean >= 150 and can_stop:\n",
    "    print(\"DQN Training Complete...\")\n",
    "    # Save Everything\n",
    "    save_dir = \"saved_models\"\n",
    "    # Save trained model\n",
    "    agent_GA.save(save_dir + \"trained_model.h5\")\n",
    "    return True\n",
    "  else:  \n",
    "    print(\"Episode:\", episode, \"  || Step: \", step,  \"  || Reward: \",\n",
    "          reward_for_episode, \"  || Average Reward: \",last_rewards_mean,\n",
    "          \"  || epsilon: \", epsilon )\n",
    "  \n",
    "def plot_reward(df_reward, chart_name, title, x_axis_label, y_axis_label):\n",
    "    plt.rcParams.update({'font.size': 17})\n",
    "    df_reward['rolling mean 100'] = df_reward[df_reward.columns[0]].rolling(100).mean()\n",
    "    plt.figure(figsize=(15, 8))\n",
    "    plt.close()\n",
    "    plt.figure()\n",
    "    # plot = df.plot(linewidth=1.5, figsize=(15, 8), title=title)\n",
    "    plot = df_reward.plot(linewidth=1.5, figsize=(15, 8))\n",
    "    plot.set_xlabel(x_axis_label)\n",
    "    plot.set_ylabel(y_axis_label)\n",
    "    plt.ylim((-800, 300))\n",
    "    fig = plot.get_figure()\n",
    "    plt.legend().set_visible(True)\n",
    "    fname=\"/content/drive/MyDrive/IUST (Master)/AI/Control Spaceship_RL/GA_1/\"\n",
    "    fig.savefig(fname + chart_name)\n",
    "\n",
    "def plot_df(df, chart_name, title, x_axis_label, y_axis_label):\n",
    "    df['rolling mean 100'] = df[df.columns[0]].rolling(100).mean()\n",
    "    plt.rcParams.update({'font.size': 17})\n",
    "    plt.figure(figsize=(15, 8))\n",
    "    plt.close()\n",
    "    plt.figure()\n",
    "    # plot = df.plot(linewidth=1.5, figsize=(15, 8), title=title)\n",
    "    plot = df.plot(linewidth=1.5, figsize=(15, 8))\n",
    "    plot.set_xlabel(x_axis_label)\n",
    "    plot.set_ylabel(y_axis_label)\n",
    "    plt.ylim((0,6000))\n",
    "    plt.xlim((0, 2000))\n",
    "    plt.legend().set_visible(True)\n",
    "    fig = plot.get_figure()\n",
    "    fname=\"/content/drive/MyDrive/IUST (Master)/AI/Control Spaceship_RL/GA_1/\"\n",
    "    fig.savefig(fname + chart_name)\n",
    "    "
   ]
  },
  {
   "cell_type": "markdown",
   "metadata": {
    "id": "0wH8vHAXH9Gh",
    "jp-MarkdownHeadingCollapsed": true,
    "tags": []
   },
   "source": [
    "## Setting HyperParameter"
   ]
  },
  {
   "cell_type": "code",
   "execution_count": null,
   "metadata": {
    "id": "1AY5EKzVchrJ"
   },
   "outputs": [],
   "source": [
    "#Hyper Parameters\n",
    "def discount_rate(): #Gamma\n",
    "    return 0.99\n",
    "\n",
    "def learning_rate(): #Alpha\n",
    "    return 0.001  \n",
    "\n",
    "def ini_pop(n_pop, n_var, lb, hb): #initial population\n",
    "    pop = np.random.uniform(lb, hb, size=(n_pop, n_var))\n",
    "    return pop\n",
    "\n",
    "def batch_size(): #Size of the batch used in the experience replay\n",
    "    return 1024\n",
    "\n",
    "def epsilon(): \n",
    "    return 1\n",
    "\n",
    "def epsilon_min():\n",
    "    return 0.01  \n",
    "\n",
    "def epsilon_decay():\n",
    "    return 0.996"
   ]
  },
  {
   "cell_type": "markdown",
   "metadata": {
    "id": "xyvTcCwCIFA5",
    "jp-MarkdownHeadingCollapsed": true,
    "tags": []
   },
   "source": [
    "## Choosing an Agent for the Model"
   ]
  },
  {
   "cell_type": "markdown",
   "metadata": {
    "id": "7TQRbzqYIhX4"
   },
   "source": [
    "### Gradien discent Agent"
   ]
  },
  {
   "cell_type": "code",
   "execution_count": null,
   "metadata": {
    "colab": {
     "base_uri": "https://localhost:8080/"
    },
    "executionInfo": {
     "elapsed": 11,
     "status": "ok",
     "timestamp": 1625142719593,
     "user": {
      "displayName": "Hamidreza Yaghoobi",
      "photoUrl": "https://lh3.googleusercontent.com/a-/AOh14GiejW8UrVNLH4PeeTPpj8GLGothy1HqGHkjYwwx=s64",
      "userId": "09717097422086311639"
     },
     "user_tz": -270
    },
    "id": "h5FyTXCbIRpm",
    "outputId": "e8ba0a35-bfd9-4b7e-f597-5a33f0602836"
   },
   "outputs": [
    {
     "name": "stderr",
     "output_type": "stream",
     "text": [
      "/usr/local/lib/python3.7/dist-packages/tensorflow/python/keras/optimizer_v2/optimizer_v2.py:375: UserWarning: The `lr` argument is deprecated, use `learning_rate` instead.\n",
      "  \"The `lr` argument is deprecated, use `learning_rate` instead.\")\n"
     ]
    }
   ],
   "source": [
    "env = wrap_env(gym.make(\"LunarLander-v2\"))\n",
    "n_states = env.observation_space.shape[0]\n",
    "n_actions = env.action_space.n\n",
    "\n",
    "agent = Agent(n_states, n_actions, learning_rate(), discount_rate(), epsilon(),\n",
    "              epsilon_min(), epsilon_decay())"
   ]
  },
  {
   "cell_type": "markdown",
   "metadata": {
    "id": "gVFJfOnGIqAR"
   },
   "source": [
    "### GA Agent"
   ]
  },
  {
   "cell_type": "code",
   "execution_count": null,
   "metadata": {
    "id": "pwrW87h4IvKg"
   },
   "outputs": [],
   "source": [
    "env = wrap_env(gym.make(\"LunarLander-v2\"))\n",
    "n_states = env.observation_space.shape[0]\n",
    "n_actions = env.action_space.n\n",
    "n_pop = 10\n",
    "pop = ini_pop(n_pop, 39040, -1, 1)\n",
    "best_pop = pop[0, :].reshape(1, -1)\n",
    "agent = Agent_GA(n_states, n_actions, n_pop, pop, best_pop, discount_rate(),\n",
    "                    epsilon(), epsilon_min(), epsilon_decay())\n",
    "\n"
   ]
  },
  {
   "cell_type": "markdown",
   "metadata": {
    "id": "vjSesfZeLrX4",
    "jp-MarkdownHeadingCollapsed": true,
    "tags": []
   },
   "source": [
    "## Environment"
   ]
  },
  {
   "cell_type": "code",
   "execution_count": null,
   "metadata": {
    "colab": {
     "base_uri": "https://localhost:8080/"
    },
    "id": "zuFtPnonZene",
    "outputId": "c5b2b8bc-b5df-4917-951f-5bc960693ee8"
   },
   "outputs": [],
   "source": [
    "\n",
    "\n",
    "random.seed(8)\n",
    "#obs = env.reset()\n",
    "\n",
    "Episode = 2000\n",
    "epi=0\n",
    "Total_reward = []\n",
    "\n",
    "for epi in range(Episode):\n",
    "    step=0\n",
    "    reward_e=0\n",
    "    done = False\n",
    "    obs = env.reset()\n",
    "    while not done:\n",
    "          env.render()\n",
    "          obs = np.reshape(obs, [1, n_states])\n",
    "          action = agent.action(obs) \n",
    "          next_obs, reward, done, info = env.step(action)\n",
    "          agent.store(obs, action, reward, next_obs, done) \n",
    "          step+=1\n",
    "          reward_e += reward\n",
    "          obs = next_obs\n",
    "    \n",
    "    if len(agent.memory) >= batch_size():\n",
    "       agent.update_NN(batch_size())\n",
    "    \n",
    "    Total_reward.append(reward_e)\n",
    "    conv=Convergence_coundition(epi, step, reward_e, Total_reward, can_stop=True,\n",
    "                                epsilon=agent.epsilon)\n",
    "    if conv:\n",
    "       break\n",
    "  \n",
    "            \n",
    "env.close()\n",
    "show_video()"
   ]
  },
  {
   "cell_type": "markdown",
   "metadata": {
    "id": "VCsUGyUaTekk",
    "jp-MarkdownHeadingCollapsed": true,
    "tags": []
   },
   "source": [
    "## Saving Model"
   ]
  },
  {
   "cell_type": "code",
   "execution_count": null,
   "metadata": {
    "id": "ysysKffZy6bT"
   },
   "outputs": [],
   "source": [
    "# Save Everything\n",
    "save_dir = \"/content/drive/MyDrive/IUST (Master)/AI/Control Spaceship_RL/GA_1/\"\n",
    "# Save trained model\n",
    "agent.save(save_dir + \"trained_model.h5\")\n",
    "\n"
   ]
  },
  {
   "cell_type": "markdown",
   "metadata": {
    "id": "0Jvelg6iTqqy",
    "jp-MarkdownHeadingCollapsed": true,
    "tags": []
   },
   "source": [
    "## Result"
   ]
  },
  {
   "cell_type": "code",
   "execution_count": null,
   "metadata": {
    "colab": {
     "base_uri": "https://localhost:8080/",
     "height": 1000
    },
    "executionInfo": {
     "elapsed": 1668,
     "status": "ok",
     "timestamp": 1625157404647,
     "user": {
      "displayName": "Hamidreza Yaghoobi",
      "photoUrl": "https://lh3.googleusercontent.com/a-/AOh14GiejW8UrVNLH4PeeTPpj8GLGothy1HqGHkjYwwx=s64",
      "userId": "09717097422086311639"
     },
     "user_tz": -270
    },
    "id": "-ClULXGheKel",
    "outputId": "cdb280e2-66cb-4782-d672-c8a6b641619f"
   },
   "outputs": [],
   "source": [
    "# plot reward in graph\n",
    "columns_name1 = ['Reward in each episode']\n",
    "reward_df = pd.DataFrame(Total_reward, columns=columns_name1)\n",
    "reward_df.to_csv(save_dir + 'Average reward.csv')\n",
    "#Must be changed to plot_reward\n",
    "plot_reward(reward_df, \"Figure 1: Reward for each training episode\", \n",
    "            \"Reward for each training episode\", \"Episode\",\"Reward\")\n",
    "\n",
    "# plot loss in graph\n",
    "loss_df = pd.DataFrame(agent.loss, columns=['NN loss in each episode'])\n",
    "loss_df_arr = np.array(loss_df)\n",
    "print(loss_df_arr.shape)\n",
    "#Must be changed to plot_reward\n",
    "plot_df(loss_df, \"Figure 2: Loss for each NN training\", \n",
    "        \"Loss for each NN training\", \"Episode\",\"Loss\")\n",
    "\n",
    "#Save Data\n",
    "reward_df.to_csv(save_dir + 'Average reward.csv', index=False)\n",
    "loss_df.to_csv(save_dir + 'NN Loss.csv', index=False)\n",
    "loss_df.head(-5)"
   ]
  },
  {
   "cell_type": "markdown",
   "metadata": {
    "id": "eXfbj5CiTzhr",
    "jp-MarkdownHeadingCollapsed": true,
    "tags": []
   },
   "source": [
    "### Models Comparison"
   ]
  },
  {
   "cell_type": "code",
   "execution_count": null,
   "metadata": {
    "colab": {
     "base_uri": "https://localhost:8080/",
     "height": 490
    },
    "executionInfo": {
     "elapsed": 2410,
     "status": "ok",
     "timestamp": 1624272013356,
     "user": {
      "displayName": "Hamidreza Yaghoobi",
      "photoUrl": "https://lh3.googleusercontent.com/a-/AOh14GiejW8UrVNLH4PeeTPpj8GLGothy1HqGHkjYwwx=s64",
      "userId": "09717097422086311639"
     },
     "user_tz": -270
    },
    "id": "RvY18-PcGXvY",
    "outputId": "1b05bed9-9bcf-4565-83c1-cc35912ef9fd"
   },
   "outputs": [
    {
     "data": {
      "text/plain": [
       "<Figure size 432x288 with 0 Axes>"
      ]
     },
     "metadata": {
      "tags": []
     },
     "output_type": "display_data"
    },
    {
     "data": {
      "image/png": "[encoded data removed]",
      "text/plain": [
       "<Figure size 1080x576 with 1 Axes>"
      ]
     },
     "metadata": {
      "needs_background": "light",
      "tags": []
     },
     "output_type": "display_data"
    }
   ],
   "source": [
    "Avreward_df = pd.read_csv(\"/content/drive/MyDrive/IUST (Master)/AI/Control Spaceship_RL/Average Reward comparison.csv\")\n",
    "\n",
    "plot_comp(Avreward_df, \"Figure 3: Avearge Reward comparison\", \n",
    "            \"Hyper Parameters Comparison\", \"Episode\", \"Average Reward\")"
   ]
  }
 ],
 "metadata": {
  "colab": {
   "authorship_tag": "ABX9TyNqH8cBtAvowDUvW+Ctv0h/",
   "collapsed_sections": [
    "_E-zayKosnVd",
    "OCy1xQ4gSpgk",
    "tSHU8QGGMLAB",
    "hFYHPJTcHXIJ",
    "M5-0TYPMHOF2",
    "0wH8vHAXH9Gh",
    "xyvTcCwCIFA5",
    "vjSesfZeLrX4",
    "VCsUGyUaTekk",
    "0Jvelg6iTqqy",
    "eXfbj5CiTzhr"
   ],
   "name": "Control Spaceship",
   "provenance": []
  },
  "kernelspec": {
   "display_name": "Python 3 (ipykernel)",
   "language": "python",
   "name": "python3"
  },
  "language_info": {
   "codemirror_mode": {
    "name": "ipython",
    "version": 3
   },
   "file_extension": ".py",
   "mimetype": "text/x-python",
   "name": "python",
   "nbconvert_exporter": "python",
   "pygments_lexer": "ipython3",
   "version": "3.9.7"
  }
 },
 "nbformat": 4,
 "nbformat_minor": 4
}
